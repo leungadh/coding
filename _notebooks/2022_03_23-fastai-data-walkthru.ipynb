{
  "cells": [
    {
      "cell_type": "markdown",
      "metadata": {
        "id": "6iJTk2ihbGfT"
      },
      "source": [
        "# Walkthrough of fast.ai Curated Datasets\n",
        "> Overall exploration of curated datasets\n",
        "\n",
        "- toc:true\n",
        "- branch: master\n",
        "- badges: true\n",
        "- comments: true\n",
        "- categories: [fastai, cookbook]"
      ]
    },
    {
      "cell_type": "code",
      "execution_count": 1,
      "metadata": {
        "colab": {
          "base_uri": "https://localhost:8080/"
        },
        "id": "H2U6DkOubGfW",
        "outputId": "e5b935a8-e1db-4c57-a171-754271304cb1"
      },
      "outputs": [
        {
          "output_type": "stream",
          "name": "stdout",
          "text": [
            "\u001b[K     |████████████████████████████████| 720 kB 13.3 MB/s \n",
            "\u001b[K     |████████████████████████████████| 48 kB 5.0 MB/s \n",
            "\u001b[K     |████████████████████████████████| 1.2 MB 41.4 MB/s \n",
            "\u001b[K     |████████████████████████████████| 189 kB 52.1 MB/s \n",
            "\u001b[K     |████████████████████████████████| 55 kB 3.3 MB/s \n",
            "\u001b[K     |████████████████████████████████| 561 kB 46.0 MB/s \n",
            "\u001b[K     |████████████████████████████████| 51 kB 304 kB/s \n",
            "\u001b[K     |████████████████████████████████| 130 kB 49.3 MB/s \n",
            "\u001b[?25h"
          ]
        }
      ],
      "source": [
        "# imports for notebook boilerplate\n",
        "!pip install -Uqq fastbook\n",
        "import fastbook\n",
        "from fastbook import *\n",
        "from fastai.vision.all import *\n"
      ]
    },
    {
      "cell_type": "code",
      "execution_count": 2,
      "metadata": {
        "colab": {
          "base_uri": "https://localhost:8080/"
        },
        "id": "PQyrPDMkbGfY",
        "outputId": "224eb81a-8c1f-48c1-8bf5-cffdfd30cde9"
      },
      "outputs": [
        {
          "output_type": "stream",
          "name": "stdout",
          "text": [
            "Mounted at /content/gdrive\n"
          ]
        }
      ],
      "source": [
        "# set up the notebook for fast.ai\n",
        "fastbook.setup_book()"
      ]
    },
    {
      "cell_type": "code",
      "execution_count": 3,
      "metadata": {
        "colab": {
          "base_uri": "https://localhost:8080/",
          "height": 37
        },
        "id": "a-l8IAJdbGfY",
        "outputId": "986709fb-8072-4a72-98e6-e22717518f44"
      },
      "outputs": [
        {
          "output_type": "display_data",
          "data": {
            "text/plain": [
              "<IPython.core.display.HTML object>"
            ],
            "text/html": [
              "\n",
              "<style>\n",
              "    /* Turns off some styling */\n",
              "    progress {\n",
              "        /* gets rid of default border in Firefox and Opera. */\n",
              "        border: none;\n",
              "        /* Needs to be in here for Safari polyfill so background images work as expected. */\n",
              "        background-size: auto;\n",
              "    }\n",
              "    .progress-bar-interrupted, .progress-bar-interrupted::-webkit-progress-bar {\n",
              "        background: #F44336;\n",
              "    }\n",
              "</style>\n"
            ]
          },
          "metadata": {}
        },
        {
          "output_type": "display_data",
          "data": {
            "text/plain": [
              "<IPython.core.display.HTML object>"
            ],
            "text/html": [
              "\n",
              "    <div>\n",
              "      <progress value='15687680' class='' max='15683414' style='width:300px; height:20px; vertical-align: middle;'></progress>\n",
              "      100.03% [15687680/15683414 00:01<00:00]\n",
              "    </div>\n",
              "    "
            ]
          },
          "metadata": {}
        }
      ],
      "source": [
        "# define the MNIST dataset as we did in the MNIST example in chapter 1\n",
        "path = untar_data(URLs.MNIST)"
      ]
    },
    {
      "cell_type": "code",
      "source": [
        "path.ls()"
      ],
      "metadata": {
        "colab": {
          "base_uri": "https://localhost:8080/"
        },
        "id": "099WzJjtcle7",
        "outputId": "706423c8-95d5-4158-89c3-43f28ff0c648"
      },
      "execution_count": 5,
      "outputs": [
        {
          "output_type": "execute_result",
          "data": {
            "text/plain": [
              "(#2) [Path('/root/.fastai/data/mnist_png/testing'),Path('/root/.fastai/data/mnist_png/training')]"
            ]
          },
          "metadata": {},
          "execution_count": 5
        }
      ]
    },
    {
      "cell_type": "code",
      "execution_count": 4,
      "metadata": {
        "colab": {
          "base_uri": "https://localhost:8080/"
        },
        "id": "yeMVulAlbGfZ",
        "outputId": "dc5b7ea1-3782-4c1f-f924-c9c14df70a12"
      },
      "outputs": [
        {
          "output_type": "execute_result",
          "data": {
            "text/plain": [
              "str"
            ]
          },
          "metadata": {},
          "execution_count": 4
        }
      ],
      "source": [
        "# get the type of the URLs.MNIST\n",
        "type(URLs.MNIST)"
      ]
    },
    {
      "cell_type": "code",
      "execution_count": 6,
      "metadata": {
        "id": "2J6xT6-lbGfZ"
      },
      "outputs": [],
      "source": [
        "# get the definition for the URLs class \n",
        "??URLs"
      ]
    },
    {
      "cell_type": "code",
      "execution_count": null,
      "metadata": {
        "id": "QSh6VnLBbGfa",
        "outputId": "b75422ea-20d2-43c2-e665-02acfae2fc1d"
      },
      "outputs": [
        {
          "data": {
            "text/plain": [
              "(#2) [Path('/storage/data/mnist_png/training'),Path('/storage/data/mnist_png/testing')]"
            ]
          },
          "execution_count": 6,
          "metadata": {},
          "output_type": "execute_result"
        }
      ],
      "source": [
        "# get the overall directory structure of the MNIST dataset\n",
        "path.ls()"
      ]
    },
    {
      "cell_type": "code",
      "execution_count": 7,
      "metadata": {
        "colab": {
          "base_uri": "https://localhost:8080/"
        },
        "id": "pglrF53DbGfb",
        "outputId": "1ac0d6ef-9b20-4f32-cbc6-321ecc60544e"
      },
      "outputs": [
        {
          "output_type": "execute_result",
          "data": {
            "text/plain": [
              "(#10) [Path('/root/.fastai/data/mnist_png/training/6'),Path('/root/.fastai/data/mnist_png/training/4'),Path('/root/.fastai/data/mnist_png/training/0'),Path('/root/.fastai/data/mnist_png/training/2'),Path('/root/.fastai/data/mnist_png/training/8'),Path('/root/.fastai/data/mnist_png/training/7'),Path('/root/.fastai/data/mnist_png/training/5'),Path('/root/.fastai/data/mnist_png/training/3'),Path('/root/.fastai/data/mnist_png/training/1'),Path('/root/.fastai/data/mnist_png/training/9')]"
            ]
          },
          "metadata": {},
          "execution_count": 7
        }
      ],
      "source": [
        "# get the structure of one of the training subdirectory\n",
        "(path/'training').ls()"
      ]
    },
    {
      "cell_type": "code",
      "execution_count": 8,
      "metadata": {
        "id": "5cEH675-bGfb"
      },
      "outputs": [],
      "source": [
        "# get the definition of the untar_data function\n",
        "??untar_data"
      ]
    },
    {
      "cell_type": "code",
      "execution_count": 9,
      "metadata": {
        "colab": {
          "base_uri": "https://localhost:8080/",
          "height": 37
        },
        "id": "jXXGoVChbGfc",
        "outputId": "31e5a27a-fe55-4785-9a5d-30f7ae0c0474"
      },
      "outputs": [
        {
          "output_type": "display_data",
          "data": {
            "text/plain": [
              "<IPython.core.display.HTML object>"
            ],
            "text/html": [
              "\n",
              "<style>\n",
              "    /* Turns off some styling */\n",
              "    progress {\n",
              "        /* gets rid of default border in Firefox and Opera. */\n",
              "        border: none;\n",
              "        /* Needs to be in here for Safari polyfill so background images work as expected. */\n",
              "        background-size: auto;\n",
              "    }\n",
              "    .progress-bar-interrupted, .progress-bar-interrupted::-webkit-progress-bar {\n",
              "        background: #F44336;\n",
              "    }\n",
              "</style>\n"
            ]
          },
          "metadata": {}
        },
        {
          "output_type": "display_data",
          "data": {
            "text/plain": [
              "<IPython.core.display.HTML object>"
            ],
            "text/html": [
              "\n",
              "    <div>\n",
              "      <progress value='811712512' class='' max='811706944' style='width:300px; height:20px; vertical-align: middle;'></progress>\n",
              "      100.00% [811712512/811706944 00:22<00:00]\n",
              "    </div>\n",
              "    "
            ]
          },
          "metadata": {}
        }
      ],
      "source": [
        "# use untar_data with another dataset\n",
        "path = untar_data(URLs.PETS)"
      ]
    },
    {
      "cell_type": "code",
      "execution_count": 10,
      "metadata": {
        "colab": {
          "base_uri": "https://localhost:8080/"
        },
        "id": "Koo2rIplbGfc",
        "outputId": "edf7c619-b861-476b-d270-26ef12eba768"
      },
      "outputs": [
        {
          "output_type": "execute_result",
          "data": {
            "text/plain": [
              "(#2) [Path('/root/.fastai/data/oxford-iiit-pet/annotations'),Path('/root/.fastai/data/oxford-iiit-pet/images')]"
            ]
          },
          "metadata": {},
          "execution_count": 10
        }
      ],
      "source": [
        "# get the top level directory structure\n",
        "path.ls()"
      ]
    },
    {
      "cell_type": "code",
      "execution_count": 11,
      "metadata": {
        "colab": {
          "base_uri": "https://localhost:8080/"
        },
        "id": "IEVb4hIebGfd",
        "outputId": "40f88651-1924-4809-c96e-619f43c21e9b"
      },
      "outputs": [
        {
          "output_type": "execute_result",
          "data": {
            "text/plain": [
              "(#7393) [Path('/root/.fastai/data/oxford-iiit-pet/images/Abyssinian_103.jpg'),Path('/root/.fastai/data/oxford-iiit-pet/images/havanese_172.jpg'),Path('/root/.fastai/data/oxford-iiit-pet/images/great_pyrenees_80.jpg'),Path('/root/.fastai/data/oxford-iiit-pet/images/Bengal_61.jpg'),Path('/root/.fastai/data/oxford-iiit-pet/images/german_shorthaired_56.jpg'),Path('/root/.fastai/data/oxford-iiit-pet/images/beagle_202.jpg'),Path('/root/.fastai/data/oxford-iiit-pet/images/pomeranian_142.jpg'),Path('/root/.fastai/data/oxford-iiit-pet/images/miniature_pinscher_177.jpg'),Path('/root/.fastai/data/oxford-iiit-pet/images/Persian_3.jpg'),Path('/root/.fastai/data/oxford-iiit-pet/images/great_pyrenees_10.jpg')...]"
            ]
          },
          "metadata": {},
          "execution_count": 11
        }
      ],
      "source": [
        "# get the directory structure for the images subdirectory\n",
        "(path/'images').ls()"
      ]
    },
    {
      "cell_type": "code",
      "execution_count": 13,
      "metadata": {
        "id": "qV0PY-3HbGfd"
      },
      "outputs": [],
      "source": [
        "# examine the source for Path.ls\n",
        "??Path.ls"
      ]
    },
    {
      "cell_type": "code",
      "execution_count": 14,
      "metadata": {
        "colab": {
          "base_uri": "https://localhost:8080/",
          "height": 306
        },
        "id": "ErQslkiRbGfe",
        "outputId": "a03e6d58-4aac-48d4-cbd9-387c988136ee"
      },
      "outputs": [
        {
          "output_type": "display_data",
          "data": {
            "text/plain": [
              "<IPython.core.display.HTML object>"
            ],
            "text/html": [
              "<h4 id=\"Path.ls\" class=\"doc_header\"><code>Path.ls</code><a href=\"https://github.com/fastai/fastcore/tree/master/fastcore/xtras.py#L313\" class=\"source_link\" style=\"float:right\">[source]</a></h4><blockquote><p><code>Path.ls</code>(<strong><code>n_max</code></strong>=<em><code>None</code></em>, <strong><code>file_type</code></strong>=<em><code>None</code></em>, <strong><code>file_exts</code></strong>=<em><code>None</code></em>)</p>\n",
              "</blockquote>\n",
              "<p>Contents of path as a list</p>\n",
              "<table>\n",
              "<thead><tr>\n",
              "<th></th>\n",
              "<th>Type</th>\n",
              "<th>Default</th>\n",
              "</tr>\n",
              "</thead>\n",
              "<tbody>\n",
              "<tr>\n",
              "<td><strong><code>n_max</code></strong></td>\n",
              "<td><code>NoneType</code></td>\n",
              "<td>``</td>\n",
              "</tr>\n",
              "<tr>\n",
              "<td><strong><code>file_type</code></strong></td>\n",
              "<td><code>NoneType</code></td>\n",
              "<td>``</td>\n",
              "</tr>\n",
              "<tr>\n",
              "<td><strong><code>file_exts</code></strong></td>\n",
              "<td><code>NoneType</code></td>\n",
              "<td>``</td>\n",
              "</tr>\n",
              "</tbody>\n",
              "</table>\n",
              "<p><a href=\"https://fastcore.fast.ai/xtras#Path.ls\" target=\"_blank\" rel=\"noreferrer noopener\">Show in docs</a></p>\n",
              "<style>\n",
              "    table { border-collapse: collapse; border:thin solid #dddddd; margin: 25px 0px; ; }\n",
              "    table tr:first-child { background-color: #FFF}\n",
              "    table thead th { background-color: #eee; color: #000; text-align: center;}\n",
              "    tr, th, td { border: 1px solid #ccc; border-width: 1px 0 0 1px; border-collapse: collapse;\n",
              "    padding: 5px; }\n",
              "    tr:nth-child(even) {background: #eee;}</style>"
            ]
          },
          "metadata": {}
        }
      ],
      "source": [
        "# get the documentation for Path.ls\n",
        "doc(Path.ls)"
      ]
    }
  ],
  "metadata": {
    "kernelspec": {
      "display_name": "Python 3",
      "language": "python",
      "name": "python3"
    },
    "language_info": {
      "codemirror_mode": {
        "name": "ipython",
        "version": 3
      },
      "file_extension": ".py",
      "mimetype": "text/x-python",
      "name": "python",
      "nbconvert_exporter": "python",
      "pygments_lexer": "ipython3",
      "version": "3.8.6"
    },
    "colab": {
      "name": "fastai_dataset_walkthrough.ipynb",
      "provenance": []
    },
    "accelerator": "GPU"
  },
  "nbformat": 4,
  "nbformat_minor": 0
}