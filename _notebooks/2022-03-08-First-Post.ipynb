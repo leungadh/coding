{
 "cells": [
  {
   "cell_type": "markdown",
   "id": "423558cb",
   "metadata": {},
   "source": [
    "# My First Post\n",
    "> Testing some fonts and layout.\n",
    "\n",
    "- These are points\n",
    "- badges: true\n",
    "- comments: true\n",
    "- categories: [jupyter]\n",
    "- image: images/chart-preview.png"
   ]
  },
  {
   "cell_type": "markdown",
   "id": "f0bc6ed8",
   "metadata": {},
   "source": [
    "## Here is the date\n",
    "\n",
    "> Date: March 8, 2022"
   ]
  },
  {
   "cell_type": "markdown",
   "id": "3b3bbd5a",
   "metadata": {},
   "source": [
    "### Third sub-title\n",
    "> Testing the 3rd-sub-title"
   ]
  },
  {
   "cell_type": "code",
   "execution_count": null,
   "id": "14dc7d0d",
   "metadata": {},
   "outputs": [],
   "source": []
  }
 ],
 "metadata": {
  "kernelspec": {
   "display_name": "Python 3 (ipykernel)",
   "language": "python",
   "name": "python3"
  },
  "language_info": {
   "codemirror_mode": {
    "name": "ipython",
    "version": 3
   },
   "file_extension": ".py",
   "mimetype": "text/x-python",
   "name": "python",
   "nbconvert_exporter": "python",
   "pygments_lexer": "ipython3",
   "version": "3.7.11"
  }
 },
 "nbformat": 4,
 "nbformat_minor": 5
}
