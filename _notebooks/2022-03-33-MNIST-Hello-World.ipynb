{
 "cells": [
  {
   "cell_type": "markdown",
   "metadata": {},
   "source": [
    "# MNIST Hello World Example\n",
    "> From fast.ai cookbook chapter 1\n",
    "\n",
    "- toc:true- branch: master\n",
    "- badges: true\n",
    "- comments: true\n",
    "- author: Mark Ryan\n",
    "- categories: [python, jupyter, mnist]\n"
   ]
  },
  {
   "cell_type": "markdown",
   "metadata": {},
   "source": [
    "# Deep learning with fast.ai cookbook - MNIST \"hello world\" example\n",
    "Minimal example using the MNIST dataset to demonstrate a minimimal, \"hello world\" type fast.ai application.\n",
    "\n",
    "Here are the fastai curated dataset choices for MNIST:\n",
    "\n",
    "**MNIST_SAMPLE**:  3s and 7s only\n",
    "~~~\n",
    "|-- train\n",
    "|   |-- 3\n",
    "|   `-- 7\n",
    "`-- valid\n",
    "    |-- 3\n",
    "    `-- 7\n",
    "~~~\n",
    "\n",
    "**MNIST_TINY**:  3s and 7s only\n",
    "~~~\n",
    "|-- models\n",
    "|-- test\n",
    "|-- train\n",
    "|   |-- 3\n",
    "|   `-- 7\n",
    "`-- valid\n",
    "    |-- 3\n",
    "    `-- 7\n",
    "~~~\n",
    "\n",
    "**MNIST_VAR_SIZE_TINY**:  3s and 7s only\n",
    "~~~\n",
    "|-- models\n",
    "|-- test\n",
    "|-- train\n",
    "|   |-- 3\n",
    "|   `-- 7\n",
    "`-- valid\n",
    "    |-- 3\n",
    "    `-- 7\n",
    "~~~\n",
    "\n",
    "**MNIST**: complete dataset\n",
    "~~~\n",
    "|-- testing\n",
    "|   |-- 0\n",
    "|   |-- 1\n",
    "|   |-- 2\n",
    "|   |-- 3\n",
    "|   |-- 4\n",
    "|   |-- 5\n",
    "|   |-- 6\n",
    "|   |-- 7\n",
    "|   |-- 8\n",
    "|   `-- 9\n",
    "`-- training\n",
    "    |-- 0\n",
    "    |-- 1\n",
    "    |-- 2\n",
    "    |-- 3\n",
    "    |-- 4\n",
    "    |-- 5\n",
    "    |-- 6\n",
    "    |-- 7\n",
    "    |-- 8\n",
    "    `-- 9\n",
    "~~~\n"
   ]
  },
  {
   "cell_type": "code",
   "execution_count": null,
   "metadata": {},
   "outputs": [],
   "source": [
    "# imports for notebook boilerplate\n",
    "# !pip install -Uqq fastbook\n",
    "# import fastbook\n",
    "# from fastbook import *\n",
    "# from fastai.vision.all import *\n"
   ]
  },
  {
   "cell_type": "code",
   "execution_count": null,
   "metadata": {},
   "outputs": [],
   "source": [
    "# set up the notebook for fast.ai\n",
    "fastbook.setup_book()"
   ]
  },
  {
   "cell_type": "code",
   "execution_count": null,
   "metadata": {},
   "outputs": [],
   "source": [
    "# In Gradient, datasets get saved in /storage/data when untar_data is called \n",
    "# if the dataset has not been copied there already\n",
    "path = untar_data(URLs.MNIST)"
   ]
  },
  {
   "cell_type": "code",
   "execution_count": null,
   "metadata": {},
   "outputs": [],
   "source": [
    "# examine the directory structure of the dataset\n",
    "path.ls()"
   ]
  },
  {
   "cell_type": "code",
   "execution_count": null,
   "metadata": {},
   "outputs": [],
   "source": [
    "%%time\n",
    "# create an image dataloaders object using the path\n",
    "# note that because of the directory structure of the dataset \n",
    "# the train and valid sets have to be explicitly specified\n",
    "# details here: https://github.com/fastai/fastai/issues/1129\n",
    "dls = ImageDataLoaders.from_folder(path, train='training', valid='testing')\n",
    "# create a learner object using the dataloaders that was just defined\n",
    "# architecture is resnet18; see https://pytorch.org/hub/pytorch_vision_resnet/\n",
    "# loss function is selected for multi class classification\n",
    "# accuracy is the metric used to optimize\n",
    "learn = cnn_learner(dls, resnet18, pretrained=False,\n",
    "                    loss_func=LabelSmoothingCrossEntropy(), metrics=accuracy)\n",
    "# fit the model for one epoch using 1cycle policy\n",
    "# see https://docs.fast.ai/callback.schedule.html#Learner.fit_one_cycle\n",
    "learn.fit_one_cycle(1, 0.1)\n",
    "\n"
   ]
  },
  {
   "cell_type": "code",
   "execution_count": null,
   "metadata": {},
   "outputs": [],
   "source": [
    "# show a batch of training data\n",
    "dls.train.show_batch(max_n=4, nrows=1)\n"
   ]
  },
  {
   "cell_type": "code",
   "execution_count": null,
   "metadata": {},
   "outputs": [],
   "source": [
    "# show a batch of validation data\n",
    "dls.valid.show_batch(max_n=4, nrows=1)"
   ]
  },
  {
   "cell_type": "code",
   "execution_count": null,
   "metadata": {},
   "outputs": [],
   "source": [
    "# take a look at one of the test images\n",
    "img_files = get_image_files(path/\"testing\")\n",
    "img = PILImage.create(img_files[7000])\n",
    "img\n"
   ]
  },
  {
   "cell_type": "code",
   "execution_count": null,
   "metadata": {},
   "outputs": [],
   "source": [
    "# show the images with the highest loss\n",
    "interp = ClassificationInterpretation.from_learner(learn)\n",
    "interp.plot_top_losses(4, nrows=1)\n"
   ]
  },
  {
   "cell_type": "code",
   "execution_count": null,
   "metadata": {},
   "outputs": [],
   "source": [
    "# examine the model, including its layers\n",
    "learn.summary()"
   ]
  },
  {
   "cell_type": "code",
   "execution_count": null,
   "metadata": {},
   "outputs": [],
   "source": [
    "# select an image from the test set\n",
    "img = PILImage.create(img_files[0])\n",
    "img"
   ]
  },
  {
   "cell_type": "code",
   "execution_count": null,
   "metadata": {},
   "outputs": [],
   "source": [
    "# apply the trained model to the image\n",
    "learn.predict(img)"
   ]
  },
  {
   "cell_type": "code",
   "execution_count": null,
   "metadata": {},
   "outputs": [],
   "source": [
    "# select a different test set image and apply the model to it to get a prediction\n",
    "img = PILImage.create(img_files[2030])\n",
    "img"
   ]
  },
  {
   "cell_type": "code",
   "execution_count": null,
   "metadata": {},
   "outputs": [],
   "source": [
    "learn.predict(img)"
   ]
  },
  {
   "cell_type": "code",
   "execution_count": null,
   "metadata": {},
   "outputs": [],
   "source": [
    "# select a different image and apply the model to it to get a prediction\n",
    "img = PILImage.create(img_files[5800])\n",
    "img"
   ]
  },
  {
   "cell_type": "code",
   "execution_count": null,
   "metadata": {},
   "outputs": [],
   "source": [
    "learn.predict(img)"
   ]
  },
  {
   "cell_type": "code",
   "execution_count": null,
   "metadata": {},
   "outputs": [],
   "source": []
  }
 ],
 "metadata": {
  "jupytext": {
   "split_at_heading": true
  },
  "kernelspec": {
   "display_name": "Python 3 (ipykernel)",
   "language": "python",
   "name": "python3"
  },
  "language_info": {
   "codemirror_mode": {
    "name": "ipython",
    "version": 3
   },
   "file_extension": ".py",
   "mimetype": "text/x-python",
   "name": "python",
   "nbconvert_exporter": "python",
   "pygments_lexer": "ipython3",
   "version": "3.7.11"
  }
 },
 "nbformat": 4,
 "nbformat_minor": 4
}
