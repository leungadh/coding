{
 "cells": [
  {
   "cell_type": "markdown",
   "id": "90596f2f",
   "metadata": {},
   "source": [
    "# Day 1 Training Exercise\n",
    "> Week 1: Python Programming for Data Analysis\n",
    "- Numpy \n",
    "- Pandas "
   ]
  },
  {
   "cell_type": "code",
   "execution_count": 2,
   "id": "188684a8",
   "metadata": {},
   "outputs": [],
   "source": [
    "import numpy as np\n",
    "import pandas as pd\n",
    "from pandas import Series"
   ]
  },
  {
   "cell_type": "markdown",
   "id": "04464100",
   "metadata": {},
   "source": [
    "# Exercise: Weather forecast\n",
    "\n",
    "1. Go to a Web site that shows the 10-day forecast for your area, Create a series containing the high temperatures for each day in the next 10 days.\n",
    "2. Calculate each of the descriptive statistics.  Are there are any obvious outliers (very hot or very cold) in the coming 10 days?"
   ]
  },
  {
   "cell_type": "code",
   "execution_count": 3,
   "id": "238fe867",
   "metadata": {},
   "outputs": [],
   "source": [
    "#Create pandas series s with index is the date, and temperature is the value\n",
    "s = Series([31, 32, 32, 30, 28, 29, 31, 32, 32, 32])\n",
    "s.index=(['0806', '0807', '0808', '0809', '0810','0811', '0812', '0813', '0814', '0815' ])"
   ]
  },
  {
   "cell_type": "code",
   "execution_count": 7,
   "id": "662aba20",
   "metadata": {},
   "outputs": [
    {
     "data": {
      "text/plain": [
       "30"
      ]
     },
     "execution_count": 7,
     "metadata": {},
     "output_type": "execute_result"
    }
   ],
   "source": [
    "# what will the weather be like on August 9th?\n",
    "s.loc[\"0809\"]"
   ]
  },
  {
   "cell_type": "code",
   "execution_count": 8,
   "id": "e96b0c80",
   "metadata": {},
   "outputs": [
    {
     "data": {
      "text/plain": [
       "0808    32\n",
       "0809    30\n",
       "0810    28\n",
       "dtype: int64"
      ]
     },
     "execution_count": 8,
     "metadata": {},
     "output_type": "execute_result"
    }
   ],
   "source": [
    "# what will the high temperature be on August 8th through 10th?\n",
    "s.loc[\"0808\":\"0810\"]"
   ]
  },
  {
   "cell_type": "code",
   "execution_count": 9,
   "id": "c4660793",
   "metadata": {},
   "outputs": [
    {
     "data": {
      "text/plain": [
       "32"
      ]
     },
     "execution_count": 9,
     "metadata": {},
     "output_type": "execute_result"
    }
   ],
   "source": [
    "s.loc[\"0808\":\"0810\"].max()"
   ]
  },
  {
   "cell_type": "code",
   "execution_count": 10,
   "id": "63e27378",
   "metadata": {},
   "outputs": [
    {
     "data": {
      "text/plain": [
       "0808    32\n",
       "0809    30\n",
       "0810    28\n",
       "dtype: int64"
      ]
     },
     "execution_count": 10,
     "metadata": {},
     "output_type": "execute_result"
    }
   ],
   "source": [
    "# or, if I prefer, just state them explicitly with a fancy index\n",
    "s.loc[['0808', '0809', '0810']]"
   ]
  },
  {
   "cell_type": "code",
   "execution_count": 11,
   "id": "cccccae1",
   "metadata": {},
   "outputs": [
    {
     "data": {
      "text/plain": [
       "count    10.000000\n",
       "mean     30.900000\n",
       "std       1.449138\n",
       "min      28.000000\n",
       "25%      30.250000\n",
       "50%      31.500000\n",
       "75%      32.000000\n",
       "max      32.000000\n",
       "dtype: float64"
      ]
     },
     "execution_count": 11,
     "metadata": {},
     "output_type": "execute_result"
    }
   ],
   "source": [
    "# Use s.describe() for getting the data characteristics\n",
    "s.describe()"
   ]
  },
  {
   "cell_type": "code",
   "execution_count": 12,
   "id": "a0e4a768",
   "metadata": {},
   "outputs": [
    {
     "data": {
      "text/plain": [
       "count     3.0\n",
       "mean     30.0\n",
       "std       2.0\n",
       "min      28.0\n",
       "25%      29.0\n",
       "50%      30.0\n",
       "75%      31.0\n",
       "max      32.0\n",
       "dtype: float64"
      ]
     },
     "execution_count": 12,
     "metadata": {},
     "output_type": "execute_result"
    }
   ],
   "source": [
    "s.loc[['0808', '0809', '0810']].describe()"
   ]
  },
  {
   "cell_type": "code",
   "execution_count": 13,
   "id": "35da83be",
   "metadata": {},
   "outputs": [
    {
     "data": {
      "text/plain": [
       "29"
      ]
     },
     "execution_count": 13,
     "metadata": {},
     "output_type": "execute_result"
    }
   ],
   "source": [
    "#Restrieve the postion via s.iloc\n",
    "s.iloc[5]"
   ]
  },
  {
   "cell_type": "markdown",
   "id": "381c6bbf",
   "metadata": {},
   "source": [
    "### Exercise: Weather, with dates\n",
    "- Recreate your weather series, using MMDD-style strings as your indexes.\n",
    "- Retrieve, via the index, the high temperature on August 6th\n",
    "- Retrieve, via the index, the high temperatures on August 7th through 10th.\n",
    "- What is the max temp going to be from August 9th through 11th?"
   ]
  },
  {
   "cell_type": "code",
   "execution_count": 15,
   "id": "34f4d2c1",
   "metadata": {},
   "outputs": [
    {
     "data": {
      "text/plain": [
       "0806    31\n",
       "0807    32\n",
       "0808    32\n",
       "0809    30\n",
       "0810    28\n",
       "0811    29\n",
       "0812    31\n",
       "0813    32\n",
       "0814    32\n",
       "0815    32\n",
       "dtype: int64"
      ]
     },
     "execution_count": 15,
     "metadata": {},
     "output_type": "execute_result"
    }
   ],
   "source": [
    "# method 1 for creating my series of temps with dates:\n",
    "# create the series\n",
    "# pass the keyword argument index with a list of strings\n",
    "\n",
    "s = Series([31, 32, 32, 30, 28, 29, 31, 32, 32, 32],\n",
    "          index=['0806', '0807', '0808', '0809', '0810','0811', '0812', '0813', '0814', '0815'])\n",
    "s"
   ]
  },
  {
   "cell_type": "code",
   "execution_count": 22,
   "id": "7b94f54c",
   "metadata": {},
   "outputs": [
    {
     "data": {
      "text/plain": [
       "31"
      ]
     },
     "execution_count": 22,
     "metadata": {},
     "output_type": "execute_result"
    }
   ],
   "source": [
    "#Retrieve, via the index, the high temperature on August 6th\n",
    "s.loc[\"0806\"] "
   ]
  },
  {
   "cell_type": "code",
   "execution_count": 21,
   "id": "3e96188d",
   "metadata": {},
   "outputs": [
    {
     "data": {
      "text/plain": [
       "0807    32\n",
       "0808    32\n",
       "0809    30\n",
       "0810    28\n",
       "dtype: int64"
      ]
     },
     "execution_count": 21,
     "metadata": {},
     "output_type": "execute_result"
    }
   ],
   "source": [
    "#- Retrieve, via the index, the high temperatures on August 7th through 10th.\n",
    "s.loc[\"0807\":\"0810\"]"
   ]
  },
  {
   "cell_type": "code",
   "execution_count": 20,
   "id": "20f9ceb4",
   "metadata": {},
   "outputs": [
    {
     "data": {
      "text/plain": [
       "30"
      ]
     },
     "execution_count": 20,
     "metadata": {},
     "output_type": "execute_result"
    }
   ],
   "source": [
    "#- What is the max temp going to be from August 9th through 11th?\n",
    "s.loc[\"0809\":\"0811\"].max()"
   ]
  },
  {
   "cell_type": "markdown",
   "id": "1a5a72ca",
   "metadata": {},
   "source": [
    "# Exercise: Convert our temperatures¶\n",
    "Assign s to be our 10-day forecast:\n",
    "\n",
    "If your forecast is in Celsius, use broadcasting to get a new series in Fahrenheit\n",
    "If your forecast is in Fahrenheit, use broadcasting to get a new series in Celsius\n",
    "\n",
    "### °F = (°C × 9/5) + 32 \n",
    "### C =  (°F − 32) x 5/9 "
   ]
  },
  {
   "cell_type": "code",
   "execution_count": 23,
   "id": "6743427d",
   "metadata": {},
   "outputs": [],
   "source": [
    "F_series = s*9/5 + 32"
   ]
  },
  {
   "cell_type": "code",
   "execution_count": 24,
   "id": "b6499e44",
   "metadata": {},
   "outputs": [
    {
     "data": {
      "text/plain": [
       "0806    87.8\n",
       "0807    89.6\n",
       "0808    89.6\n",
       "0809    86.0\n",
       "0810    82.4\n",
       "0811    84.2\n",
       "0812    87.8\n",
       "0813    89.6\n",
       "0814    89.6\n",
       "0815    89.6\n",
       "dtype: float64"
      ]
     },
     "execution_count": 24,
     "metadata": {},
     "output_type": "execute_result"
    }
   ],
   "source": [
    "F_series"
   ]
  },
  {
   "cell_type": "code",
   "execution_count": 25,
   "id": "acf7e738",
   "metadata": {},
   "outputs": [
    {
     "data": {
      "text/plain": [
       "0806    31.0\n",
       "0807    32.0\n",
       "0808    32.0\n",
       "0809    30.0\n",
       "0810    28.0\n",
       "0811    29.0\n",
       "0812    31.0\n",
       "0813    32.0\n",
       "0814    32.0\n",
       "0815    32.0\n",
       "dtype: float64"
      ]
     },
     "execution_count": 25,
     "metadata": {},
     "output_type": "execute_result"
    }
   ],
   "source": [
    "C_series = (F_series - 32) * 5/9\n",
    "C_series"
   ]
  },
  {
   "cell_type": "code",
   "execution_count": 28,
   "id": "932f2082",
   "metadata": {},
   "outputs": [
    {
     "data": {
      "text/plain": [
       "0    10\n",
       "2    30\n",
       "3    40\n",
       "dtype: int64"
      ]
     },
     "execution_count": 28,
     "metadata": {},
     "output_type": "execute_result"
    }
   ],
   "source": [
    "#Boolean with Series\n",
    "k = Series([10,20,30,40,50])\n",
    "k.loc[[True, False, True, True, False]]"
   ]
  },
  {
   "cell_type": "markdown",
   "id": "cab44306",
   "metadata": {},
   "source": [
    "# Exercise: Family ages\n",
    "Create a series in which the values are ages of people in your family, and the index contains their names.\n",
    "Find all people who are below the mean age.\n",
    "Find all people who are above the mean age + 1 std.\n",
    "Find all people whose ages are odd.\n"
   ]
  },
  {
   "cell_type": "code",
   "execution_count": 29,
   "id": "f52abd55",
   "metadata": {},
   "outputs": [],
   "source": [
    "s = Series([52, 50, 21, 19, 16],\n",
    "          index=['RL', 'SF', 'AMLF', 'SBLF', 'ADLF'])"
   ]
  },
  {
   "cell_type": "code",
   "execution_count": 30,
   "id": "3ae97f55",
   "metadata": {},
   "outputs": [
    {
     "data": {
      "text/plain": [
       "RL      False\n",
       "SF      False\n",
       "AMLF     True\n",
       "SBLF     True\n",
       "ADLF     True\n",
       "dtype: bool"
      ]
     },
     "execution_count": 30,
     "metadata": {},
     "output_type": "execute_result"
    }
   ],
   "source": [
    "(s < s.mean())"
   ]
  },
  {
   "cell_type": "code",
   "execution_count": 32,
   "id": "d0323e89",
   "metadata": {},
   "outputs": [
    {
     "data": {
      "text/plain": [
       "AMLF    21\n",
       "SBLF    19\n",
       "ADLF    16\n",
       "dtype: int64"
      ]
     },
     "execution_count": 32,
     "metadata": {},
     "output_type": "execute_result"
    }
   ],
   "source": [
    "#Find all people who are below the mean age.\n",
    "s.loc[s<s.mean()]"
   ]
  },
  {
   "cell_type": "code",
   "execution_count": 33,
   "id": "324f35a5",
   "metadata": {},
   "outputs": [
    {
     "data": {
      "text/plain": [
       "RL    52\n",
       "SF    50\n",
       "dtype: int64"
      ]
     },
     "execution_count": 33,
     "metadata": {},
     "output_type": "execute_result"
    }
   ],
   "source": [
    "#Find all people who are above the mean age + 1 std.\n",
    "s.loc[s > (s.mean() + s.std())]"
   ]
  },
  {
   "cell_type": "code",
   "execution_count": 36,
   "id": "d82df6bb",
   "metadata": {},
   "outputs": [
    {
     "data": {
      "text/plain": [
       "AMLF    21\n",
       "SBLF    19\n",
       "dtype: int64"
      ]
     },
     "execution_count": 36,
     "metadata": {},
     "output_type": "execute_result"
    }
   ],
   "source": [
    "#Find all people whose ages are odd.\n",
    "s.loc[s%2 == 1]"
   ]
  },
  {
   "cell_type": "markdown",
   "id": "7a70a062",
   "metadata": {},
   "source": [
    "# Exercise: Very big and very small numbers¶\n",
    "Generate a series with 100 random integers (as I've done, using np.random.randint) from 0-1000.\n",
    "Find the numbers that are either very big (i.e., > mean + std) or very small (i.e., < mean - std)"
   ]
  },
  {
   "cell_type": "code",
   "execution_count": 37,
   "id": "82957653",
   "metadata": {},
   "outputs": [],
   "source": [
    "s = Series(np.random.randint(1,1000,100))"
   ]
  },
  {
   "cell_type": "code",
   "execution_count": 38,
   "id": "1610ff16",
   "metadata": {},
   "outputs": [
    {
     "data": {
      "text/plain": [
       "0    416\n",
       "1     84\n",
       "2    301\n",
       "3    634\n",
       "4    695\n",
       "dtype: int64"
      ]
     },
     "execution_count": 38,
     "metadata": {},
     "output_type": "execute_result"
    }
   ],
   "source": [
    "s.head()"
   ]
  },
  {
   "cell_type": "code",
   "execution_count": 39,
   "id": "54291c5e",
   "metadata": {},
   "outputs": [
    {
     "data": {
      "text/plain": [
       "count    100.000000\n",
       "mean     483.700000\n",
       "std      295.703732\n",
       "min        3.000000\n",
       "25%      241.250000\n",
       "50%      478.000000\n",
       "75%      718.500000\n",
       "max      999.000000\n",
       "dtype: float64"
      ]
     },
     "execution_count": 39,
     "metadata": {},
     "output_type": "execute_result"
    }
   ],
   "source": [
    "s.describe()"
   ]
  },
  {
   "cell_type": "code",
   "execution_count": 41,
   "id": "d589af37",
   "metadata": {},
   "outputs": [
    {
     "data": {
      "text/plain": [
       "15    852\n",
       "21    871\n",
       "23    999\n",
       "24    950\n",
       "25    951\n",
       "28    927\n",
       "30    859\n",
       "31    905\n",
       "35    861\n",
       "36    780\n",
       "43    994\n",
       "44    958\n",
       "50    992\n",
       "54    808\n",
       "56    904\n",
       "57    897\n",
       "75    876\n",
       "81    920\n",
       "93    847\n",
       "dtype: int64"
      ]
     },
     "execution_count": 41,
     "metadata": {},
     "output_type": "execute_result"
    }
   ],
   "source": [
    "#Find the numbers that are either very big (i.e., > mean + std)\n",
    "s.loc[s > (s.mean() + s.std())]"
   ]
  },
  {
   "cell_type": "code",
   "execution_count": 44,
   "id": "01bc0754",
   "metadata": {},
   "outputs": [
    {
     "data": {
      "text/plain": [
       "0     False\n",
       "1     False\n",
       "2     False\n",
       "3     False\n",
       "4     False\n",
       "      ...  \n",
       "95    False\n",
       "96    False\n",
       "97    False\n",
       "98    False\n",
       "99    False\n",
       "Length: 100, dtype: bool"
      ]
     },
     "execution_count": 44,
     "metadata": {},
     "output_type": "execute_result"
    }
   ],
   "source": [
    "#Boolean series for the above\n",
    "s > s.mean() + s.std()"
   ]
  },
  {
   "cell_type": "code",
   "execution_count": 43,
   "id": "ea92a1b9",
   "metadata": {},
   "outputs": [
    {
     "data": {
      "text/plain": [
       "1      84\n",
       "6      93\n",
       "7      79\n",
       "9     136\n",
       "10     45\n",
       "17    122\n",
       "20     28\n",
       "26    166\n",
       "27    101\n",
       "32     44\n",
       "41     73\n",
       "47     31\n",
       "52     99\n",
       "55      3\n",
       "70    174\n",
       "72     10\n",
       "78     19\n",
       "84     88\n",
       "87     31\n",
       "88    185\n",
       "91     65\n",
       "dtype: int64"
      ]
     },
     "execution_count": 43,
     "metadata": {},
     "output_type": "execute_result"
    }
   ],
   "source": [
    "#Find the numbers that are either very small (i.e., < mean - std)\n",
    "s.loc[s < (s.mean() - s.std())]"
   ]
  },
  {
   "cell_type": "code",
   "execution_count": 46,
   "id": "d2a1ef1d",
   "metadata": {},
   "outputs": [
    {
     "data": {
      "text/plain": [
       "0     False\n",
       "1      True\n",
       "2     False\n",
       "3     False\n",
       "4     False\n",
       "      ...  \n",
       "95    False\n",
       "96    False\n",
       "97    False\n",
       "98    False\n",
       "99    False\n",
       "Length: 100, dtype: bool"
      ]
     },
     "execution_count": 46,
     "metadata": {},
     "output_type": "execute_result"
    }
   ],
   "source": [
    "#Boolean series for the above\n",
    "s < s.mean() - s.std()"
   ]
  },
  {
   "cell_type": "code",
   "execution_count": 47,
   "id": "4d60ae41",
   "metadata": {},
   "outputs": [
    {
     "data": {
      "text/plain": [
       "1      84\n",
       "6      93\n",
       "7      79\n",
       "9     136\n",
       "10     45\n",
       "15    852\n",
       "17    122\n",
       "20     28\n",
       "21    871\n",
       "23    999\n",
       "24    950\n",
       "25    951\n",
       "26    166\n",
       "27    101\n",
       "28    927\n",
       "30    859\n",
       "31    905\n",
       "32     44\n",
       "35    861\n",
       "36    780\n",
       "41     73\n",
       "43    994\n",
       "44    958\n",
       "47     31\n",
       "50    992\n",
       "52     99\n",
       "54    808\n",
       "55      3\n",
       "56    904\n",
       "57    897\n",
       "70    174\n",
       "72     10\n",
       "75    876\n",
       "78     19\n",
       "81    920\n",
       "84     88\n",
       "87     31\n",
       "88    185\n",
       "91     65\n",
       "93    847\n",
       "dtype: int64"
      ]
     },
     "execution_count": 47,
     "metadata": {},
     "output_type": "execute_result"
    }
   ],
   "source": [
    "# find numbers that are either very big or very small\n",
    "s.loc[(s > s.mean() + s.std()) |\n",
    "      (s < s.mean() - s.std())]"
   ]
  },
  {
   "cell_type": "markdown",
   "id": "fe6e1aac",
   "metadata": {},
   "source": [
    "# Exercise: Weekend temps\n",
    "- Recreate our series of high temperatures, but instead of dates as the index, use day names (Mon, Tue).\n",
    "-What will be the mean temperature on weekends (Sat-Sun).\n",
    "-What will be the mean temperature on weekdays?"
   ]
  },
  {
   "cell_type": "code",
   "execution_count": 49,
   "id": "134d4f48",
   "metadata": {},
   "outputs": [],
   "source": [
    "#Create pandas series s with index is the date, and temperature is the value\n",
    "s = Series([31, 32, 32, 30, 28, 29, 31, 32, 32, 32])\n",
    "s.index=(['SAT', 'SUN', 'MON', 'TUE', 'WED','THU', 'FRI', 'SAT', 'SUN', 'MON' ])"
   ]
  },
  {
   "cell_type": "code",
   "execution_count": 58,
   "id": "f15d8d7b",
   "metadata": {},
   "outputs": [
    {
     "data": {
      "text/plain": [
       "31.75"
      ]
     },
     "execution_count": 58,
     "metadata": {},
     "output_type": "execute_result"
    }
   ],
   "source": [
    "s.loc[[\"SAT\",\"SUN\"]].mean()"
   ]
  },
  {
   "cell_type": "code",
   "execution_count": 60,
   "id": "bddeed52",
   "metadata": {},
   "outputs": [
    {
     "data": {
      "text/plain": [
       "31.75"
      ]
     },
     "execution_count": 60,
     "metadata": {},
     "output_type": "execute_result"
    }
   ],
   "source": [
    "s.iloc[[0,1,7,8]].mean()"
   ]
  },
  {
   "cell_type": "code",
   "execution_count": 62,
   "id": "dd41e050",
   "metadata": {},
   "outputs": [
    {
     "data": {
      "text/plain": [
       "SAT    31\n",
       "SUN    32\n",
       "SAT    32\n",
       "SUN    32\n",
       "dtype: int64"
      ]
     },
     "execution_count": 62,
     "metadata": {},
     "output_type": "execute_result"
    }
   ],
   "source": [
    "s.loc[s.index.isin(['SAT', 'SUN'])]"
   ]
  },
  {
   "cell_type": "markdown",
   "id": "de11dd93",
   "metadata": {},
   "source": [
    "# Exercise: Change in weather\n",
    "- Using our high-temperature series, what are the 3 most common temperatures in your 10-day forecats?\n",
    "- On what day will there be the greatest numeric (not percentage) change in temperature? \n",
    "- How about the smallest change?"
   ]
  },
  {
   "cell_type": "code",
   "execution_count": 70,
   "id": "2e524de5",
   "metadata": {},
   "outputs": [],
   "source": [
    "s = Series([31, 32, 32, 30, 28, 29, 31, 32, 32, 32])\n",
    "s.index=(['0806', '0807', '0808', '0809', '0810','0811', '0812', '0813', '0814', '0815' ])"
   ]
  },
  {
   "cell_type": "code",
   "execution_count": 71,
   "id": "f4ed8150",
   "metadata": {},
   "outputs": [
    {
     "data": {
      "text/plain": [
       "32    5\n",
       "31    2\n",
       "30    1\n",
       "28    1\n",
       "29    1\n",
       "dtype: int64"
      ]
     },
     "execution_count": 71,
     "metadata": {},
     "output_type": "execute_result"
    }
   ],
   "source": [
    "s.value_counts()"
   ]
  },
  {
   "cell_type": "code",
   "execution_count": 72,
   "id": "3d052e08",
   "metadata": {},
   "outputs": [
    {
     "data": {
      "text/plain": [
       "32    5\n",
       "31    2\n",
       "dtype: int64"
      ]
     },
     "execution_count": 72,
     "metadata": {},
     "output_type": "execute_result"
    }
   ],
   "source": [
    "s.value_counts().head(2)"
   ]
  },
  {
   "cell_type": "code",
   "execution_count": 74,
   "id": "f165efbb",
   "metadata": {},
   "outputs": [
    {
     "data": {
      "text/plain": [
       "0806    NaN\n",
       "0807    1.0\n",
       "0808    0.0\n",
       "0809   -2.0\n",
       "0810   -2.0\n",
       "0811    1.0\n",
       "0812    2.0\n",
       "0813    1.0\n",
       "0814    0.0\n",
       "0815    0.0\n",
       "dtype: float64"
      ]
     },
     "execution_count": 74,
     "metadata": {},
     "output_type": "execute_result"
    }
   ],
   "source": [
    "s.diff()"
   ]
  },
  {
   "cell_type": "code",
   "execution_count": 75,
   "id": "b1704af0",
   "metadata": {},
   "outputs": [
    {
     "data": {
      "text/plain": [
       "0812    31\n",
       "dtype: int64"
      ]
     },
     "execution_count": 75,
     "metadata": {},
     "output_type": "execute_result"
    }
   ],
   "source": [
    "# find the day(s) with the greatest change in temp\n",
    "\n",
    "s.loc[s.diff() == s.diff().max()]"
   ]
  },
  {
   "cell_type": "code",
   "execution_count": 76,
   "id": "2fcd74e0",
   "metadata": {},
   "outputs": [
    {
     "data": {
      "text/plain": [
       "0809    30\n",
       "0810    28\n",
       "dtype: int64"
      ]
     },
     "execution_count": 76,
     "metadata": {},
     "output_type": "execute_result"
    }
   ],
   "source": [
    "# find the day(s) with the smallest change in temp\n",
    "\n",
    "s.loc[s.diff() == s.diff().min()]"
   ]
  },
  {
   "cell_type": "code",
   "execution_count": null,
   "id": "fad7f861",
   "metadata": {},
   "outputs": [],
   "source": []
  }
 ],
 "metadata": {
  "kernelspec": {
   "display_name": "Python 3 (ipykernel)",
   "language": "python",
   "name": "python3"
  },
  "language_info": {
   "codemirror_mode": {
    "name": "ipython",
    "version": 3
   },
   "file_extension": ".py",
   "mimetype": "text/x-python",
   "name": "python",
   "nbconvert_exporter": "python",
   "pygments_lexer": "ipython3",
   "version": "3.9.7"
  }
 },
 "nbformat": 4,
 "nbformat_minor": 5
}
