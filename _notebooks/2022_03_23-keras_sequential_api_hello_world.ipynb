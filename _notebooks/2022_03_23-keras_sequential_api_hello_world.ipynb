{
  "cells": [
    {
      "cell_type": "markdown",
      "metadata": {
        "id": "LyFcdMErt7jC"
      },
      "source": [
        "# Keras sequential API \"hello world\" model for MNIST\n",
        "> adapted from [Tensorflow tutorials](https://github.com/tensorflow/docs/blob/master/site/en/tutorials/quickstart/beginner.ipynb)\n",
        "\n",
        "\n",
        "- toc: true\n",
        "- branch: master\n",
        "- badges: true\n",
        "- comments: true\n",
        "- author: Andy Leung\n",
        "- categories: [keras, tensorflow]"
      ]
    },
    {
      "cell_type": "code",
      "execution_count": 1,
      "metadata": {
        "id": "q6QgkrRWt7jF"
      },
      "outputs": [],
      "source": [
        "#import required libraries\n",
        "\n",
        "import tensorflow as tf\n",
        "import pydotplus\n",
        "from tensorflow.keras.utils import plot_model"
      ]
    },
    {
      "cell_type": "code",
      "execution_count": 2,
      "metadata": {
        "colab": {
          "base_uri": "https://localhost:8080/"
        },
        "id": "7gcyjPTFt7jG",
        "outputId": "1b19eb79-3373-47ef-c641-90312d96e47a"
      },
      "outputs": [
        {
          "output_type": "stream",
          "name": "stdout",
          "text": [
            "Downloading data from https://storage.googleapis.com/tensorflow/tf-keras-datasets/mnist.npz\n",
            "11493376/11490434 [==============================] - 0s 0us/step\n",
            "11501568/11490434 [==============================] - 0s 0us/step\n"
          ]
        }
      ],
      "source": [
        "# define dataset\n",
        "mnist = tf.keras.datasets.mnist\n",
        "(x_train, y_train), (x_test, y_test) = mnist.load_data()\n",
        "x_train, x_test = x_train / 255.0, x_test / 255.0"
      ]
    },
    {
      "cell_type": "code",
      "execution_count": 3,
      "metadata": {
        "id": "XXwi63BMt7jH"
      },
      "outputs": [],
      "source": [
        "# define layers for the hello world model\n",
        "\n",
        "hello_world_model = tf.keras.models.Sequential([ \n",
        "  tf.keras.layers.Flatten(input_shape=(28, 28)), \n",
        "  tf.keras.layers.Dense(128, activation='relu'), \n",
        "  tf.keras.layers.Dropout(0.15), \n",
        "  tf.keras.layers.Dense(10) \n",
        "])"
      ]
    },
    {
      "cell_type": "code",
      "execution_count": 4,
      "metadata": {
        "colab": {
          "base_uri": "https://localhost:8080/"
        },
        "id": "q07hHjjwt7jI",
        "outputId": "23bd6ca4-3280-4c92-9142-268439c7ef9d"
      },
      "outputs": [
        {
          "output_type": "stream",
          "name": "stdout",
          "text": [
            "Epoch 1/10\n",
            "797/797 [==============================] - 5s 3ms/step - loss: 0.3619 - accuracy: 0.8978 - val_loss: 0.1691 - val_accuracy: 0.9530\n",
            "Epoch 2/10\n",
            "797/797 [==============================] - 2s 3ms/step - loss: 0.1701 - accuracy: 0.9513 - val_loss: 0.1196 - val_accuracy: 0.9648\n",
            "Epoch 3/10\n",
            "797/797 [==============================] - 2s 3ms/step - loss: 0.1270 - accuracy: 0.9615 - val_loss: 0.0961 - val_accuracy: 0.9719\n",
            "Epoch 4/10\n",
            "797/797 [==============================] - 2s 3ms/step - loss: 0.1015 - accuracy: 0.9695 - val_loss: 0.0864 - val_accuracy: 0.9757\n",
            "Epoch 5/10\n",
            "797/797 [==============================] - 2s 3ms/step - loss: 0.0841 - accuracy: 0.9741 - val_loss: 0.0829 - val_accuracy: 0.9757\n",
            "Epoch 6/10\n",
            "797/797 [==============================] - 2s 3ms/step - loss: 0.0695 - accuracy: 0.9784 - val_loss: 0.0794 - val_accuracy: 0.9758\n",
            "Epoch 7/10\n",
            "797/797 [==============================] - 2s 3ms/step - loss: 0.0591 - accuracy: 0.9812 - val_loss: 0.0803 - val_accuracy: 0.9763\n",
            "Epoch 8/10\n",
            "797/797 [==============================] - 2s 3ms/step - loss: 0.0538 - accuracy: 0.9831 - val_loss: 0.0775 - val_accuracy: 0.9774\n",
            "Epoch 9/10\n",
            "797/797 [==============================] - 2s 3ms/step - loss: 0.0481 - accuracy: 0.9847 - val_loss: 0.0746 - val_accuracy: 0.9786\n",
            "Epoch 10/10\n",
            "797/797 [==============================] - 2s 3ms/step - loss: 0.0420 - accuracy: 0.9865 - val_loss: 0.0717 - val_accuracy: 0.9793\n",
            "313/313 - 0s - loss: 0.0657 - accuracy: 0.9806 - 483ms/epoch - 2ms/step\n",
            "Loss for test dataset: 0.06568299978971481\n",
            "Accuracy for test dataset: 0.9805999994277954\n"
          ]
        }
      ],
      "source": [
        "# compile the hello world model, including specifying the loss function, optimizer, and metrics\n",
        "\n",
        "hello_world_model.compile(optimizer='adam',\n",
        "              loss=tf.keras.losses.SparseCategoricalCrossentropy(from_logits=True),\n",
        "              metrics=['accuracy']) \n",
        "\n",
        "# train model\n",
        "\n",
        "history = hello_world_model.fit(x_train, y_train,\n",
        "                    batch_size=64,\n",
        "                    epochs=10,\n",
        "                    validation_split=0.15)\n",
        "\n",
        "# assess performance of the model\n",
        "                    \n",
        "test_scores = hello_world_model.evaluate(x_test,  y_test, verbose=2) \n",
        "print('Loss for test dataset:', test_scores[0])\n",
        "print('Accuracy for test dataset:', test_scores[1])\n"
      ]
    },
    {
      "cell_type": "code",
      "execution_count": 5,
      "metadata": {
        "colab": {
          "base_uri": "https://localhost:8080/"
        },
        "id": "bPauKhDQt7jI",
        "outputId": "811b3177-73ee-4871-83e5-907a9e5b31c0"
      },
      "outputs": [
        {
          "output_type": "stream",
          "name": "stdout",
          "text": [
            "313/313 - 0s - loss: 0.0657 - accuracy: 0.9806 - 480ms/epoch - 2ms/step\n",
            "Loss for test dataset: 0.06568299978971481\n",
            "Accuracy for test dataset: 0.9805999994277954\n"
          ]
        }
      ],
      "source": [
        "# assess performance of the model on the test set\n",
        "                    \n",
        "test_scores = hello_world_model.evaluate(x_test,  y_test, verbose=2) \n",
        "print('Loss for test dataset:', test_scores[0])\n",
        "print('Accuracy for test dataset:', test_scores[1])"
      ]
    },
    {
      "cell_type": "code",
      "execution_count": null,
      "metadata": {
        "id": "V56jXbiPt7jJ"
      },
      "outputs": [],
      "source": [
        ""
      ]
    }
  ],
  "metadata": {
    "kernelspec": {
      "display_name": "Python 3",
      "language": "python",
      "name": "python3"
    },
    "language_info": {
      "codemirror_mode": {
        "name": "ipython",
        "version": 3
      },
      "file_extension": ".py",
      "mimetype": "text/x-python",
      "name": "python",
      "nbconvert_exporter": "python",
      "pygments_lexer": "ipython3",
      "version": "3.8.6"
    },
    "colab": {
      "name": "keras_sequential_api_hello_world.ipynb",
      "provenance": []
    },
    "accelerator": "GPU"
  },
  "nbformat": 4,
  "nbformat_minor": 0
}